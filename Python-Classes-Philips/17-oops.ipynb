{
 "cells": [
  {
   "cell_type": "code",
   "execution_count": 1,
   "metadata": {},
   "outputs": [],
   "source": [
    "lst = [1, 2, 3]"
   ]
  },
  {
   "cell_type": "code",
   "execution_count": 3,
   "metadata": {},
   "outputs": [
    {
     "name": "stdout",
     "output_type": "stream",
     "text": [
      "<class 'list'>\n"
     ]
    }
   ],
   "source": [
    "print(type(lst))"
   ]
  },
  {
   "cell_type": "code",
   "execution_count": 4,
   "metadata": {},
   "outputs": [
    {
     "name": "stdout",
     "output_type": "stream",
     "text": [
      "<class 'int'>\n"
     ]
    }
   ],
   "source": [
    "var = 1\n",
    "print(type(var))"
   ]
  },
  {
   "cell_type": "code",
   "execution_count": 5,
   "metadata": {},
   "outputs": [
    {
     "name": "stdout",
     "output_type": "stream",
     "text": [
      "<class '__main__.Sample'>\n"
     ]
    }
   ],
   "source": [
    "class Sample:\n",
    "    pass\n",
    "\n",
    "x = Sample()\n",
    "\n",
    "print(type(x))"
   ]
  },
  {
   "cell_type": "code",
   "execution_count": 6,
   "metadata": {},
   "outputs": [
    {
     "data": {
      "text/plain": [
       "1"
      ]
     },
     "execution_count": 6,
     "metadata": {},
     "output_type": "execute_result"
    }
   ],
   "source": [
    "lst.count(1)"
   ]
  },
  {
   "cell_type": "code",
   "execution_count": 7,
   "metadata": {},
   "outputs": [],
   "source": [
    "class Sample2:\n",
    "    def __init__(self, name):\n",
    "        print(name)"
   ]
  },
  {
   "cell_type": "code",
   "execution_count": 10,
   "metadata": {},
   "outputs": [
    {
     "name": "stdout",
     "output_type": "stream",
     "text": [
      "Somendra\n"
     ]
    }
   ],
   "source": [
    "x = Sample2(\"Somendra\")"
   ]
  },
  {
   "cell_type": "code",
   "execution_count": 46,
   "metadata": {},
   "outputs": [],
   "source": [
    "class Car:\n",
    "    wheels = 4\n",
    "    totalEngines = 1\n",
    "    steringWheels = 1\n",
    "\n",
    "    def __init__(self, carBrand, carColor):\n",
    "        self.carBrand = carBrand\n",
    "        self.carColor = carColor\n",
    "\n",
    "\n",
    "    def __str__(self):\n",
    "        return \"Car Details : {0} , {1}\".format(self.carBrand, self.carColor)\n",
    "\n",
    "    def playRadio(self):\n",
    "        print(\"Hey in your car {0} radio started\".format(self.carBrand))\n",
    "\n",
    "    def calculateSpeed(self, dist, time):\n",
    "        speed = dist/time\n",
    "        print(\"Hey your car {0} is running at speed of {1} km/hr\".format(self.carBrand, speed))"
   ]
  },
  {
   "cell_type": "code",
   "execution_count": 16,
   "metadata": {},
   "outputs": [],
   "source": [
    "c1 = Car(\"BMW\", \"Black\")"
   ]
  },
  {
   "cell_type": "code",
   "execution_count": 17,
   "metadata": {},
   "outputs": [
    {
     "name": "stdout",
     "output_type": "stream",
     "text": [
      "Hey in your car BMW radio started\n"
     ]
    }
   ],
   "source": [
    "c1.playRadio()"
   ]
  },
  {
   "cell_type": "code",
   "execution_count": 18,
   "metadata": {},
   "outputs": [
    {
     "name": "stdout",
     "output_type": "stream",
     "text": [
      "Hey your car BMW is running at speed of 10.0 km/hr\n"
     ]
    }
   ],
   "source": [
    "c1.calculateSpeed(40, 4)"
   ]
  },
  {
   "cell_type": "code",
   "execution_count": 36,
   "metadata": {},
   "outputs": [],
   "source": [
    "# Inheritance \n",
    "\n",
    "\n",
    "class Bird:\n",
    "    totalWings = 2\n",
    "\n",
    "    \n",
    "\n",
    "    def fly(self):\n",
    "        print(\"Hey I am flying\")\n",
    "    \n",
    "    def attack(self):\n",
    "        print(\"Hey I am attacking\")\n"
   ]
  },
  {
   "cell_type": "code",
   "execution_count": 43,
   "metadata": {},
   "outputs": [],
   "source": [
    "class Sparrow(Bird):\n",
    "\n",
    " \n",
    "    def __str__(self):\n",
    "        return \"Hey This is the object of bird class and properties that this bird has is wings that is equals to {0}\".format(self.totalWings)\n",
    "\n",
    "    def eatPlant(self):\n",
    "        print(\"Hey I am eating plant\")\n",
    "    \n",
    "    "
   ]
  },
  {
   "cell_type": "code",
   "execution_count": 44,
   "metadata": {},
   "outputs": [
    {
     "name": "stdout",
     "output_type": "stream",
     "text": [
      "Hey I am flying\n",
      "Hey I am eating plant\n"
     ]
    }
   ],
   "source": [
    "x = Sparrow()\n",
    "\n",
    "x.fly()\n",
    "\n",
    "x.eatPlant()"
   ]
  },
  {
   "cell_type": "code",
   "execution_count": 45,
   "metadata": {},
   "outputs": [
    {
     "name": "stdout",
     "output_type": "stream",
     "text": [
      "Hey This is the object of bird class and properties that this bird has is wings that is equals to 2\n"
     ]
    }
   ],
   "source": [
    "print(x)"
   ]
  },
  {
   "cell_type": "code",
   "execution_count": 48,
   "metadata": {},
   "outputs": [
    {
     "name": "stdout",
     "output_type": "stream",
     "text": [
      "Car Details : Audi , Blue\n"
     ]
    }
   ],
   "source": [
    "c1 = Car(\"BMW\", \"Black\")\n",
    "\n",
    "c2 = Car(\"Audi\", \"Blue\")\n",
    "\n",
    "c3 = Car(\"Mercedes\", \"Silver\")\n",
    "\n",
    "\n",
    "print(c2)"
   ]
  }
 ],
 "metadata": {
  "kernelspec": {
   "display_name": "Python 3",
   "language": "python",
   "name": "python3"
  },
  "language_info": {
   "codemirror_mode": {
    "name": "ipython",
    "version": 3
   },
   "file_extension": ".py",
   "mimetype": "text/x-python",
   "name": "python",
   "nbconvert_exporter": "python",
   "pygments_lexer": "ipython3",
   "version": "3.11.3"
  }
 },
 "nbformat": 4,
 "nbformat_minor": 2
}
