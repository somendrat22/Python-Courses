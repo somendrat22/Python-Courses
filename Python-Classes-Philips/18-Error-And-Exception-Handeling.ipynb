{
 "cells": [
  {
   "cell_type": "code",
   "execution_count": 1,
   "metadata": {},
   "outputs": [
    {
     "ename": "SyntaxError",
     "evalue": "unterminated string literal (detected at line 1) (2466889454.py, line 1)",
     "output_type": "error",
     "traceback": [
      "\u001b[1;36m  Cell \u001b[1;32mIn[1], line 1\u001b[1;36m\u001b[0m\n\u001b[1;33m    print('Hii)\u001b[0m\n\u001b[1;37m          ^\u001b[0m\n\u001b[1;31mSyntaxError\u001b[0m\u001b[1;31m:\u001b[0m unterminated string literal (detected at line 1)\n"
     ]
    }
   ],
   "source": [
    "print('Hii)"
   ]
  },
  {
   "cell_type": "code",
   "execution_count": 10,
   "metadata": {},
   "outputs": [
    {
     "name": "stdout",
     "output_type": "stream",
     "text": [
      "division by zero\n"
     ]
    }
   ],
   "source": [
    "a = 7\n",
    "b = 10\n",
    "\n",
    "try:\n",
    "    print(a/0)\n",
    "except IOError:\n",
    "    print(ArithmeticError)\n",
    "except ArithmeticError as e:\n",
    "    print(e)\n",
    "else:\n",
    "    print(\"Hey I am else block i will get executed when is thre is no error\")"
   ]
  },
  {
   "cell_type": "code",
   "execution_count": 7,
   "metadata": {},
   "outputs": [],
   "source": [
    "# finally  : Either we got exception and either we didn't got any exception This block wll always got exccuted \n",
    "\n",
    "def askInt():\n",
    "    while True:\n",
    "        try:\n",
    "            val = int(input(\"Enter the value in integer only : \"))\n",
    "        except Exception as e:\n",
    "            print(e)\n",
    "            break\n",
    "        else:\n",
    "            print(\"Hey your try block got successfully executed\")\n",
    "        finally:\n",
    "            print(\"Hey I always got executed\")\n",
    "\n"
   ]
  },
  {
   "cell_type": "code",
   "execution_count": 8,
   "metadata": {},
   "outputs": [
    {
     "name": "stdout",
     "output_type": "stream",
     "text": [
      "Hey your try block got successfully executed\n",
      "Hey I always got executed\n",
      "Hey your try block got successfully executed\n",
      "Hey I always got executed\n",
      "Hey your try block got successfully executed\n",
      "Hey I always got executed\n",
      "invalid literal for int() with base 10: '-'\n",
      "Hey I always got executed\n"
     ]
    }
   ],
   "source": [
    "askInt()"
   ]
  },
  {
   "cell_type": "code",
   "execution_count": 9,
   "metadata": {},
   "outputs": [],
   "source": [
    "from MyPackage import Car"
   ]
  },
  {
   "cell_type": "code",
   "execution_count": 11,
   "metadata": {},
   "outputs": [],
   "source": [
    "from MyPackage.New import hii"
   ]
  },
  {
   "cell_type": "code",
   "execution_count": 12,
   "metadata": {},
   "outputs": [
    {
     "name": "stdout",
     "output_type": "stream",
     "text": [
      "Hii\n"
     ]
    },
    {
     "ename": "",
     "evalue": "",
     "output_type": "error",
     "traceback": [
      "\u001b[1;31mThe Kernel crashed while executing code in the the current cell or a previous cell. Please review the code in the cell(s) to identify a possible cause of the failure. Click <a href='https://aka.ms/vscodeJupyterKernelCrash'>here</a> for more info. View Jupyter <a href='command:jupyter.viewOutput'>log</a> for further details."
     ]
    }
   ],
   "source": [
    "hii()"
   ]
  }
 ],
 "metadata": {
  "kernelspec": {
   "display_name": "Python 3",
   "language": "python",
   "name": "python3"
  },
  "language_info": {
   "codemirror_mode": {
    "name": "ipython",
    "version": 3
   },
   "file_extension": ".py",
   "mimetype": "text/x-python",
   "name": "python",
   "nbconvert_exporter": "python",
   "pygments_lexer": "ipython3",
   "version": "3.11.3"
  }
 },
 "nbformat": 4,
 "nbformat_minor": 2
}
