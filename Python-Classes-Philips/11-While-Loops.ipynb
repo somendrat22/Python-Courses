{
 "cells": [
  {
   "cell_type": "code",
   "execution_count": 2,
   "metadata": {},
   "outputs": [
    {
     "name": "stdout",
     "output_type": "stream",
     "text": [
      "current value of x is 0\n",
      "current value of x is 1\n",
      "current value of x is 2\n",
      "current value of x is 3\n",
      "current value of x is 4\n",
      "current value of x is 5\n",
      "current value of x is 6\n",
      "current value of x is 7\n",
      "current value of x is 8\n",
      "current value of x is 9\n",
      "Hey all numbers got printed\n"
     ]
    }
   ],
   "source": [
    "x  = 0\n",
    "\n",
    "while x < 10:\n",
    "    print(\"current value of x is {0}\".format(x))\n",
    "    x += 1\n",
    "else:\n",
    "    print(\"Hey all numbers got printed\")\n",
    "\n",
    "\n"
   ]
  },
  {
   "cell_type": "code",
   "execution_count": 5,
   "metadata": {},
   "outputs": [
    {
     "name": "stdout",
     "output_type": "stream",
     "text": [
      "current value of x is 0\n",
      "current value of x is 1\n",
      "current value of x is 2\n",
      "Hey I want to stop this loop because x value is equals to 3\n"
     ]
    }
   ],
   "source": [
    "# Break \n",
    "\n",
    "\n",
    "x  = 0\n",
    "\n",
    "while x < 10:\n",
    "    if x == 3:\n",
    "        print(\"Hey I want to stop this loop because x value is equals to 3\")\n",
    "        break\n",
    "    print(\"current value of x is {0}\".format(x))\n",
    "    x += 1\n",
    "else:\n",
    "    print(\"Hey all numbers got printed\")\n",
    "\n",
    "\n"
   ]
  },
  {
   "cell_type": "code",
   "execution_count": 9,
   "metadata": {},
   "outputs": [
    {
     "name": "stdout",
     "output_type": "stream",
     "text": [
      "current value of x is 0\n",
      "current value of x is 1\n",
      "current value of x is 2\n",
      "Hey x value is set to 5 and i am continuing this process\n",
      "current value of x is 5\n",
      "current value of x is 6\n",
      "current value of x is 7\n",
      "current value of x is 8\n",
      "current value of x is 9\n"
     ]
    }
   ],
   "source": [
    "x = 0\n",
    "while x < 10:\n",
    "    if x == 3:\n",
    "        x = 5\n",
    "        print(\"Hey x value is set to 5 and i am continuing this process\")\n",
    "        continue\n",
    "    print(\"current value of x is {0}\".format(x))\n",
    "    x += 1\n"
   ]
  },
  {
   "cell_type": "code",
   "execution_count": null,
   "metadata": {},
   "outputs": [],
   "source": []
  }
 ],
 "metadata": {
  "kernelspec": {
   "display_name": "Python 3",
   "language": "python",
   "name": "python3"
  },
  "language_info": {
   "codemirror_mode": {
    "name": "ipython",
    "version": 3
   },
   "file_extension": ".py",
   "mimetype": "text/x-python",
   "name": "python",
   "nbconvert_exporter": "python",
   "pygments_lexer": "ipython3",
   "version": "3.11.3"
  }
 },
 "nbformat": 4,
 "nbformat_minor": 2
}
