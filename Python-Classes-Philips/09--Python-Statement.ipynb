{
 "cells": [
  {
   "cell_type": "code",
   "execution_count": 1,
   "metadata": {},
   "outputs": [
    {
     "name": "stdout",
     "output_type": "stream",
     "text": [
      "Hii I am in the if condition\n"
     ]
    }
   ],
   "source": [
    "a = 2\n",
    "b = 3 \n",
    "\n",
    "if a < b:\n",
    "    print(\"Hii I am in the if condition\")\n",
    "else:\n",
    "    print(\"Hey I am in the else condition\")"
   ]
  },
  {
   "cell_type": "code",
   "execution_count": 2,
   "metadata": {},
   "outputs": [
    {
     "name": "stdout",
     "output_type": "stream",
     "text": [
      "Hey I am in bank\n"
     ]
    }
   ],
   "source": [
    "loc = \"Bank\"\n",
    "\n",
    "if loc == \"Hospital\":\n",
    "    print(\"Hey I am in hospital\")\n",
    "elif loc == \"Bank\":\n",
    "    print(\"Hey I am in bank\")\n",
    "elif loc == \"School\":\n",
    "    print(\"Hey I am in school\")\n",
    "else:\n",
    "    print(\"Hey i am in nowhere\")"
   ]
  }
 ],
 "metadata": {
  "kernelspec": {
   "display_name": "Python 3",
   "language": "python",
   "name": "python3"
  },
  "language_info": {
   "codemirror_mode": {
    "name": "ipython",
    "version": 3
   },
   "file_extension": ".py",
   "mimetype": "text/x-python",
   "name": "python",
   "nbconvert_exporter": "python",
   "pygments_lexer": "ipython3",
   "version": "3.11.3"
  }
 },
 "nbformat": 4,
 "nbformat_minor": 2
}
