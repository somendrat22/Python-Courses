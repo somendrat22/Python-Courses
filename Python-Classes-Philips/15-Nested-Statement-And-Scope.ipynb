{
 "cells": [
  {
   "cell_type": "code",
   "execution_count": 2,
   "metadata": {},
   "outputs": [],
   "source": [
    "def greet():\n",
    "\n",
    "    name = \"Somendra\"\n",
    "\n",
    "    def hello():\n",
    "        print(\"hello \" + name)\n",
    "\n",
    "    hello()"
   ]
  },
  {
   "cell_type": "code",
   "execution_count": 3,
   "metadata": {},
   "outputs": [
    {
     "name": "stdout",
     "output_type": "stream",
     "text": [
      "hello Somendra\n"
     ]
    }
   ],
   "source": [
    "greet()"
   ]
  },
  {
   "cell_type": "code",
   "execution_count": 12,
   "metadata": {},
   "outputs": [
    {
     "name": "stdout",
     "output_type": "stream",
     "text": [
      "After changing value of x, x value is 2\n",
      "In function scope value of x is 2\n",
      "Value of x is still 2\n"
     ]
    }
   ],
   "source": [
    "x = 50\n",
    "\n",
    "def changeValueOfX():\n",
    "\n",
    "    global x\n",
    "\n",
    "    x = 2\n",
    "\n",
    "    print(\"After changing value of x, x value is {0}\".format(x))\n",
    "\n",
    "    \n",
    "\n",
    "    print(\"In function scope value of x is {0}\".format(x))\n",
    "\n",
    "changeValueOfX()\n",
    "print(\"Value of x is still {0}\".format(x))"
   ]
  },
  {
   "cell_type": "code",
   "execution_count": null,
   "metadata": {},
   "outputs": [],
   "source": []
  }
 ],
 "metadata": {
  "kernelspec": {
   "display_name": "Python 3",
   "language": "python",
   "name": "python3"
  },
  "language_info": {
   "codemirror_mode": {
    "name": "ipython",
    "version": 3
   },
   "file_extension": ".py",
   "mimetype": "text/x-python",
   "name": "python",
   "nbconvert_exporter": "python",
   "pygments_lexer": "ipython3",
   "version": "3.11.3"
  }
 },
 "nbformat": 4,
 "nbformat_minor": 2
}
