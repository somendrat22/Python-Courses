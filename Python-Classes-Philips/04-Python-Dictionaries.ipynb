{
 "cells": [
  {
   "cell_type": "markdown",
   "metadata": {},
   "source": [
    "# Dictionaries"
   ]
  },
  {
   "cell_type": "code",
   "execution_count": 11,
   "metadata": {},
   "outputs": [],
   "source": [
    "# Construction of dictionary\n",
    "\n",
    "my_dict = {\"key1\" : \"value1\", \"Key2\" : \"Value2\"}\n",
    "\n",
    "my_dict = {\"India\" : [\"New Delhi\", \"Bangalore\", \"Gurugram\"], \"USA\" : [\"New York\", \"Chicago\", \"Washington DC\"], \"Germany\" : [\"Berlin\", \"Munich\", \"bonn\"]}"
   ]
  },
  {
   "cell_type": "code",
   "execution_count": 5,
   "metadata": {},
   "outputs": [
    {
     "data": {
      "text/plain": [
       "{'India': ['New Delhi', 'Bangalore', 'Gurugram'],\n",
       " 'USA': ['New York', 'Chicago', 'Washington DC'],\n",
       " 'Germany': ['Berlin', 'Munich', 'bonn']}"
      ]
     },
     "execution_count": 5,
     "metadata": {},
     "output_type": "execute_result"
    }
   ],
   "source": [
    "my_dict"
   ]
  },
  {
   "cell_type": "code",
   "execution_count": 7,
   "metadata": {},
   "outputs": [
    {
     "data": {
      "text/plain": [
       "'Chicago'"
      ]
     },
     "execution_count": 7,
     "metadata": {},
     "output_type": "execute_result"
    }
   ],
   "source": [
    "my_dict[\"USA\"][1]"
   ]
  },
  {
   "cell_type": "code",
   "execution_count": 9,
   "metadata": {},
   "outputs": [],
   "source": [
    "my_dict[\"India\"] = \"Bangalore\""
   ]
  },
  {
   "cell_type": "code",
   "execution_count": 12,
   "metadata": {},
   "outputs": [
    {
     "data": {
      "text/plain": [
       "{'India': ['New Delhi', 'Bangalore', 'Gurugram'],\n",
       " 'USA': ['New York', 'Chicago', 'Washington DC'],\n",
       " 'Germany': ['Berlin', 'Munich', 'bonn']}"
      ]
     },
     "execution_count": 12,
     "metadata": {},
     "output_type": "execute_result"
    }
   ],
   "source": [
    "my_dict"
   ]
  },
  {
   "cell_type": "code",
   "execution_count": 13,
   "metadata": {},
   "outputs": [],
   "source": [
    "my_dict[\"India\"].append(\"Hyderabad\")"
   ]
  },
  {
   "cell_type": "code",
   "execution_count": 15,
   "metadata": {},
   "outputs": [
    {
     "data": {
      "text/plain": [
       "{'India': ['New Delhi', 'Bangalore', 'Gurugram', 'Hyderabad'],\n",
       " 'USA': ['New York', 'Chicago', 'Washington DC'],\n",
       " 'Germany': ['Berlin', 'Munich', 'bonn']}"
      ]
     },
     "execution_count": 15,
     "metadata": {},
     "output_type": "execute_result"
    }
   ],
   "source": [
    "my_dict"
   ]
  },
  {
   "cell_type": "code",
   "execution_count": 16,
   "metadata": {},
   "outputs": [],
   "source": [
    "my_dict[1] = 2"
   ]
  },
  {
   "cell_type": "code",
   "execution_count": 17,
   "metadata": {},
   "outputs": [
    {
     "data": {
      "text/plain": [
       "{'India': ['New Delhi', 'Bangalore', 'Gurugram', 'Hyderabad'],\n",
       " 'USA': ['New York', 'Chicago', 'Washington DC'],\n",
       " 'Germany': ['Berlin', 'Munich', 'bonn'],\n",
       " 1: 2}"
      ]
     },
     "execution_count": 17,
     "metadata": {},
     "output_type": "execute_result"
    }
   ],
   "source": [
    "my_dict"
   ]
  },
  {
   "cell_type": "code",
   "execution_count": 18,
   "metadata": {},
   "outputs": [],
   "source": [
    "my_dict[\"India\"].append(3.2)"
   ]
  },
  {
   "cell_type": "code",
   "execution_count": 19,
   "metadata": {},
   "outputs": [
    {
     "data": {
      "text/plain": [
       "{'India': ['New Delhi', 'Bangalore', 'Gurugram', 'Hyderabad', 3.2],\n",
       " 'USA': ['New York', 'Chicago', 'Washington DC'],\n",
       " 'Germany': ['Berlin', 'Munich', 'bonn'],\n",
       " 1: 2}"
      ]
     },
     "execution_count": 19,
     "metadata": {},
     "output_type": "execute_result"
    }
   ],
   "source": [
    "my_dict"
   ]
  }
 ],
 "metadata": {
  "kernelspec": {
   "display_name": "Python 3",
   "language": "python",
   "name": "python3"
  },
  "language_info": {
   "codemirror_mode": {
    "name": "ipython",
    "version": 3
   },
   "file_extension": ".py",
   "mimetype": "text/x-python",
   "name": "python",
   "nbconvert_exporter": "python",
   "pygments_lexer": "ipython3",
   "version": "3.11.3"
  }
 },
 "nbformat": 4,
 "nbformat_minor": 2
}
