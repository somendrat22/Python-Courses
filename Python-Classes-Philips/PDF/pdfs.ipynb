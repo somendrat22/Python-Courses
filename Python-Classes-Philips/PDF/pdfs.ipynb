{
 "cells": [
  {
   "cell_type": "code",
   "execution_count": 1,
   "metadata": {},
   "outputs": [],
   "source": [
    "import PyPDF2"
   ]
  },
  {
   "cell_type": "code",
   "execution_count": 19,
   "metadata": {},
   "outputs": [],
   "source": [
    "f = open('lec1Notes.pdf', 'rb')"
   ]
  },
  {
   "cell_type": "code",
   "execution_count": 20,
   "metadata": {},
   "outputs": [
    {
     "ename": "EmptyFileError",
     "evalue": "Cannot read an empty file",
     "output_type": "error",
     "traceback": [
      "\u001b[1;31m---------------------------------------------------------------------------\u001b[0m",
      "\u001b[1;31mEmptyFileError\u001b[0m                            Traceback (most recent call last)",
      "\u001b[1;32mc:\\Users\\Dell\\Desktop\\Let-Me-Study-Classes\\Python-Courses\\Python-Classes-Philips\\PDF\\pdfs.ipynb Cell 3\u001b[0m line \u001b[0;36m1\n\u001b[1;32m----> <a href='vscode-notebook-cell:/c%3A/Users/Dell/Desktop/Let-Me-Study-Classes/Python-Courses/Python-Classes-Philips/PDF/pdfs.ipynb#W2sZmlsZQ%3D%3D?line=0'>1</a>\u001b[0m pdf_reader \u001b[39m=\u001b[39m PyPDF2\u001b[39m.\u001b[39;49mPdfReader(f)\n",
      "File \u001b[1;32mc:\\Users\\Dell\\AppData\\Local\\Programs\\Python\\Python311\\Lib\\site-packages\\PyPDF2\\_reader.py:319\u001b[0m, in \u001b[0;36mPdfReader.__init__\u001b[1;34m(self, stream, strict, password)\u001b[0m\n\u001b[0;32m    317\u001b[0m     \u001b[39mwith\u001b[39;00m \u001b[39mopen\u001b[39m(stream, \u001b[39m\"\u001b[39m\u001b[39mrb\u001b[39m\u001b[39m\"\u001b[39m) \u001b[39mas\u001b[39;00m fh:\n\u001b[0;32m    318\u001b[0m         stream \u001b[39m=\u001b[39m BytesIO(fh\u001b[39m.\u001b[39mread())\n\u001b[1;32m--> 319\u001b[0m \u001b[39mself\u001b[39;49m\u001b[39m.\u001b[39;49mread(stream)\n\u001b[0;32m    320\u001b[0m \u001b[39mself\u001b[39m\u001b[39m.\u001b[39mstream \u001b[39m=\u001b[39m stream\n\u001b[0;32m    322\u001b[0m \u001b[39mself\u001b[39m\u001b[39m.\u001b[39m_override_encryption \u001b[39m=\u001b[39m \u001b[39mFalse\u001b[39;00m\n",
      "File \u001b[1;32mc:\\Users\\Dell\\AppData\\Local\\Programs\\Python\\Python311\\Lib\\site-packages\\PyPDF2\\_reader.py:1414\u001b[0m, in \u001b[0;36mPdfReader.read\u001b[1;34m(self, stream)\u001b[0m\n\u001b[0;32m   1413\u001b[0m \u001b[39mdef\u001b[39;00m \u001b[39mread\u001b[39m(\u001b[39mself\u001b[39m, stream: StreamType) \u001b[39m-\u001b[39m\u001b[39m>\u001b[39m \u001b[39mNone\u001b[39;00m:\n\u001b[1;32m-> 1414\u001b[0m     \u001b[39mself\u001b[39;49m\u001b[39m.\u001b[39;49m_basic_validation(stream)\n\u001b[0;32m   1415\u001b[0m     \u001b[39mself\u001b[39m\u001b[39m.\u001b[39m_find_eof_marker(stream)\n\u001b[0;32m   1416\u001b[0m     startxref \u001b[39m=\u001b[39m \u001b[39mself\u001b[39m\u001b[39m.\u001b[39m_find_startxref_pos(stream)\n",
      "File \u001b[1;32mc:\\Users\\Dell\\AppData\\Local\\Programs\\Python\\Python311\\Lib\\site-packages\\PyPDF2\\_reader.py:1455\u001b[0m, in \u001b[0;36mPdfReader._basic_validation\u001b[1;34m(self, stream)\u001b[0m\n\u001b[0;32m   1453\u001b[0m stream\u001b[39m.\u001b[39mseek(\u001b[39m0\u001b[39m, os\u001b[39m.\u001b[39mSEEK_END)\n\u001b[0;32m   1454\u001b[0m \u001b[39mif\u001b[39;00m \u001b[39mnot\u001b[39;00m stream\u001b[39m.\u001b[39mtell():\n\u001b[1;32m-> 1455\u001b[0m     \u001b[39mraise\u001b[39;00m EmptyFileError(\u001b[39m\"\u001b[39m\u001b[39mCannot read an empty file\u001b[39m\u001b[39m\"\u001b[39m)\n\u001b[0;32m   1456\u001b[0m \u001b[39mif\u001b[39;00m \u001b[39mself\u001b[39m\u001b[39m.\u001b[39mstrict:\n\u001b[0;32m   1457\u001b[0m     stream\u001b[39m.\u001b[39mseek(\u001b[39m0\u001b[39m, os\u001b[39m.\u001b[39mSEEK_SET)\n",
      "\u001b[1;31mEmptyFileError\u001b[0m: Cannot read an empty file"
     ]
    }
   ],
   "source": [
    "pdf_reader = PyPDF2.PdfReader(f)"
   ]
  },
  {
   "cell_type": "code",
   "execution_count": 17,
   "metadata": {},
   "outputs": [
    {
     "data": {
      "text/plain": [
       "2"
      ]
     },
     "execution_count": 17,
     "metadata": {},
     "output_type": "execute_result"
    }
   ],
   "source": [
    "len(pdf_reader.pages)"
   ]
  },
  {
   "cell_type": "code",
   "execution_count": 10,
   "metadata": {},
   "outputs": [],
   "source": [
    "page_one = pdf_reader.pages[0]"
   ]
  },
  {
   "cell_type": "code",
   "execution_count": 11,
   "metadata": {},
   "outputs": [
    {
     "data": {
      "text/plain": [
       "'LEC-1: Introduction to DBMS \\n1. What is Data?\\na. Data is a collection of raw, unorganized facts and details like text, observations, figures, symbols,\\nand descriptions of things etc.In other words, data does not carry any specific purpose and has no significance by itself.\\nMoreover, data is measured in terms of bits and bytes – which are basic units of information in the\\ncontext of computer storage and processing.\\nb. Data can be recorded and doesn’t have any meaning unless processed.\\n2. Types of Data\\na. Quanti tative\\ni.Numerical form\\nii.Weight, volume, cost of an item.\\nb. Qualitative\\ni.Descriptive, but not numerical.\\nii.Name, gender, hair color of a person.\\n3. What is Information?\\na. Info. Is processed, organized, and structured data.\\nb. It provides context of the data and enables decision making.\\nc. Processed data that make sense to us.\\nd. Information is extracted from the data, by analyzing and interpreti ng pieces of data.\\ne. E.g., you have data of all the people living in your locality, its Data, when you analyze and i\\nnterpret\\nth\\ne data and come to some conclusion that:\\ni.There are 100 senior citizens.\\nii.The sex ratio is 1.1.\\niii. Newborn babies are 100.These are information.\\n4. Data vs Information\\na. Data is a collection of facts, while information puts those facts into context.\\nb. While data is raw and unorganized, information is organized.\\nc. Data points are individual and sometimes unrelated. Information maps out that data to provide abig-picture view of how it all fits together.\\nd. Data, on its own, is meaningless. When it’s analyzed and interpreted, it becomes meaningfulinformation\\n.\\ne. Da\\nta does not depend on information; however, information depends on data.\\nf. Data typically comes in the f orm of graphs, numbers, figures, or statistics. Information is typicall y\\npr\\nesented through words, language, thoughts, and ideas.\\ng. Data isn’t sufficient for decision-making , but you can make decisions based on information.\\n5. What is Database ?\\na. Database is an electronic place/system where data is stored in a way that it can be  easily accessed,\\nmanaged,  and updated.\\nb. To make real use Data, we need Database management system s. (DBMS)\\n6. What is DBMS ?\\na. A database -management system (DBMS) is a collection of interrelated data  and a set of\\nprograms to access those data . The collection of data, usually referred to as the database ,\\ncontai\\nns information relevant to an enterprise. The primary goal of a DBMS is to provide a way to\\nstore and retrieve database  information  that is both convenient and efficient.\\nb. A DBMS is the database itself, along with all the software and functionality. It is used to perform\\ndifferent operations, like addition , access , updating, an d deletion  of the data.\\nCodeHelp'"
      ]
     },
     "execution_count": 11,
     "metadata": {},
     "output_type": "execute_result"
    }
   ],
   "source": [
    "page_one.extract_text()"
   ]
  },
  {
   "cell_type": "code",
   "execution_count": 18,
   "metadata": {},
   "outputs": [],
   "source": [
    "f.close()"
   ]
  },
  {
   "cell_type": "code",
   "execution_count": 14,
   "metadata": {},
   "outputs": [],
   "source": [
    "f = open('Some', 'wb')"
   ]
  },
  {
   "cell_type": "code",
   "execution_count": null,
   "metadata": {},
   "outputs": [],
   "source": [
    "PyPDF2.Page"
   ]
  }
 ],
 "metadata": {
  "kernelspec": {
   "display_name": "Python 3",
   "language": "python",
   "name": "python3"
  },
  "language_info": {
   "codemirror_mode": {
    "name": "ipython",
    "version": 3
   },
   "file_extension": ".py",
   "mimetype": "text/x-python",
   "name": "python",
   "nbconvert_exporter": "python",
   "pygments_lexer": "ipython3",
   "version": "3.11.3"
  }
 },
 "nbformat": 4,
 "nbformat_minor": 2
}
