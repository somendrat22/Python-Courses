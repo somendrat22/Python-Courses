{
 "cells": [
  {
   "cell_type": "code",
   "execution_count": 1,
   "metadata": {},
   "outputs": [],
   "source": [
    "import PyPDF2"
   ]
  },
  {
   "cell_type": "code",
   "execution_count": 2,
   "metadata": {},
   "outputs": [],
   "source": [
    "f = open(\"Somendra's Resume (22).pdf\", 'rb')"
   ]
  },
  {
   "cell_type": "code",
   "execution_count": 3,
   "metadata": {},
   "outputs": [],
   "source": [
    "pdfReader = PyPDF2.PdfReader(f)"
   ]
  },
  {
   "cell_type": "code",
   "execution_count": 4,
   "metadata": {},
   "outputs": [],
   "source": [
    "firstPage = pdfReader.pages[0]"
   ]
  },
  {
   "cell_type": "code",
   "execution_count": 5,
   "metadata": {},
   "outputs": [],
   "source": [
    "pdfWriter = PyPDF2.PdfWriter()\n"
   ]
  },
  {
   "cell_type": "code",
   "execution_count": 7,
   "metadata": {},
   "outputs": [
    {
     "data": {
      "text/plain": [
       "{'/Type': '/Page',\n",
       " '/Contents': {'/Filter': '/FlateDecode'},\n",
       " '/Resources': {'/ColorSpace': {'/PCSp': ['/Pattern', '/DeviceRGB'],\n",
       "   '/CSp': '/DeviceRGB',\n",
       "   '/CSpg': '/DeviceGray'},\n",
       "  '/ExtGState': {'/GSa': {'/Type': '/ExtGState',\n",
       "    '/SA': True,\n",
       "    '/SM': 0.02,\n",
       "    '/ca': 1,\n",
       "    '/CA': 1,\n",
       "    '/AIS': False,\n",
       "    '/SMask': '/None'},\n",
       "   '/GState9': {'/ca': 0, '/CA': 0}},\n",
       "  '/Pattern': {},\n",
       "  '/Font': {'/F6': {'/Type': '/Font',\n",
       "    '/Subtype': '/Type0',\n",
       "    '/BaseFont': '/Ubuntu-Regular',\n",
       "    '/Encoding': '/Identity-H',\n",
       "    '/DescendantFonts': [IndirectObject(11, 0, 2710747750672)],\n",
       "    '/ToUnicode': {}},\n",
       "   '/F7': {'/Type': '/Font',\n",
       "    '/Subtype': '/Type0',\n",
       "    '/BaseFont': '/Ubuntu-Bold',\n",
       "    '/Encoding': '/Identity-H',\n",
       "    '/DescendantFonts': [IndirectObject(16, 0, 2710747750672)],\n",
       "    '/ToUnicode': {}},\n",
       "   '/F8': {'/Type': '/Font',\n",
       "    '/Subtype': '/Type0',\n",
       "    '/BaseFont': '/Ubuntu-Italic',\n",
       "    '/Encoding': '/Identity-H',\n",
       "    '/DescendantFonts': [IndirectObject(21, 0, 2710747750672)],\n",
       "    '/ToUnicode': {}}},\n",
       "  '/XObject': {}},\n",
       " '/Annots': [IndirectObject(26, 0, 2710747750672),\n",
       "  IndirectObject(27, 0, 2710747750672),\n",
       "  IndirectObject(28, 0, 2710747750672),\n",
       "  IndirectObject(29, 0, 2710747750672),\n",
       "  IndirectObject(30, 0, 2710747750672),\n",
       "  IndirectObject(31, 0, 2710747750672),\n",
       "  IndirectObject(32, 0, 2710747750672),\n",
       "  IndirectObject(33, 0, 2710747750672),\n",
       "  IndirectObject(34, 0, 2710747750672),\n",
       "  IndirectObject(35, 0, 2710747750672),\n",
       "  IndirectObject(36, 0, 2710747750672),\n",
       "  IndirectObject(37, 0, 2710747750672)],\n",
       " '/MediaBox': [0, 0, 595, 842],\n",
       " '/Parent': {'/Type': '/Pages',\n",
       "  '/Count': 1,\n",
       "  '/Kids': [IndirectObject(4, 0, 2710747750672)]}}"
      ]
     },
     "execution_count": 7,
     "metadata": {},
     "output_type": "execute_result"
    }
   ],
   "source": [
    "pdfWriter.add_page(firstPage)"
   ]
  },
  {
   "cell_type": "code",
   "execution_count": 8,
   "metadata": {},
   "outputs": [],
   "source": [
    "pdf_ouput = open(\"Somendra's Resume (22).pdf\", 'wb')"
   ]
  },
  {
   "cell_type": "code",
   "execution_count": 9,
   "metadata": {},
   "outputs": [
    {
     "data": {
      "text/plain": [
       "(False, <_io.BufferedWriter name=\"Somendra's Resume (22).pdf\">)"
      ]
     },
     "execution_count": 9,
     "metadata": {},
     "output_type": "execute_result"
    }
   ],
   "source": [
    "pdfWriter.write(pdf_ouput)"
   ]
  },
  {
   "cell_type": "code",
   "execution_count": 11,
   "metadata": {},
   "outputs": [],
   "source": [
    "f.close()"
   ]
  },
  {
   "cell_type": "code",
   "execution_count": null,
   "metadata": {},
   "outputs": [],
   "source": []
  },
  {
   "cell_type": "code",
   "execution_count": null,
   "metadata": {},
   "outputs": [],
   "source": []
  },
  {
   "cell_type": "code",
   "execution_count": null,
   "metadata": {},
   "outputs": [],
   "source": []
  }
 ],
 "metadata": {
  "kernelspec": {
   "display_name": "Python 3",
   "language": "python",
   "name": "python3"
  },
  "language_info": {
   "codemirror_mode": {
    "name": "ipython",
    "version": 3
   },
   "file_extension": ".py",
   "mimetype": "text/x-python",
   "name": "python",
   "nbconvert_exporter": "python",
   "pygments_lexer": "ipython3",
   "version": "3.11.3"
  }
 },
 "nbformat": 4,
 "nbformat_minor": 2
}
