{
 "cells": [
  {
   "cell_type": "code",
   "execution_count": 1,
   "metadata": {},
   "outputs": [],
   "source": [
    "# If -> You Will enter this block only when the condition present will got true.\n",
    "# Elif -> You will enter this block only when the above conditions got failed and this condition true. Then and only you will enter this block \n",
    "# Else -> If all the condition got failed. Then you are going to enter this block"
   ]
  },
  {
   "cell_type": "code",
   "execution_count": 6,
   "metadata": {},
   "outputs": [
    {
     "name": "stdout",
     "output_type": "stream",
     "text": [
      "Somendra\n"
     ]
    }
   ],
   "source": [
    "if 3 > 4:\n",
    "    print(\"Solo\")\n",
    "elif 2 < 1:\n",
    "    print(\"First Elif block\")\n",
    "elif 4 < 2:\n",
    "    print(\"3rd condition\")\n",
    "else:\n",
    "    print(\"Somendra\")"
   ]
  },
  {
   "cell_type": "code",
   "execution_count": 9,
   "metadata": {},
   "outputs": [
    {
     "name": "stdout",
     "output_type": "stream",
     "text": [
      "Hii Somendra\n"
     ]
    }
   ],
   "source": [
    "person = \"Somendra\"\n",
    "\n",
    "if person == \"Solo\":\n",
    "    print(\"Hii {}\".format(person))\n",
    "elif person == \"Somendra\":\n",
    "    print(\"Hii {}\".format(person))\n",
    "else:\n",
    "    print(\"Hii please tell your name\")"
   ]
  }
 ],
 "metadata": {
  "kernelspec": {
   "display_name": "Python 3.10.6 64-bit",
   "language": "python",
   "name": "python3"
  },
  "language_info": {
   "codemirror_mode": {
    "name": "ipython",
    "version": 3
   },
   "file_extension": ".py",
   "mimetype": "text/x-python",
   "name": "python",
   "nbconvert_exporter": "python",
   "pygments_lexer": "ipython3",
   "version": "3.10.6"
  },
  "orig_nbformat": 4,
  "vscode": {
   "interpreter": {
    "hash": "76d7c06053c3456e5600312cec90888656fc0ed30c03d8425b9dac6e4fc8e014"
   }
  }
 },
 "nbformat": 4,
 "nbformat_minor": 2
}
