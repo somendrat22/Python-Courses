{
 "cells": [
  {
   "cell_type": "markdown",
   "metadata": {},
   "source": [
    "# Python Vs Other Languages \n",
    "\n",
    "\n",
    "if(a > b){\n",
    "    a = 2;\n",
    "    b = 4;\n",
    "}\n",
    "\n",
    "\n",
    "if a > b:\n",
    "    a = 2\n",
    "    b = 4\n",
    "\n",
    "1. In Python we don't use round braces for condition. \n",
    "2. We don't require semicolon to end the statement.\n",
    "3. We don't need curly braces to determine the block."
   ]
  },
  {
   "cell_type": "markdown",
   "metadata": {},
   "source": [
    "# Indentation \n",
    "\n",
    "if x:\n",
    "    if y:\n",
    "        code statememt \n",
    "else:\n",
    "    another-code-statement \n"
   ]
  }
 ],
 "metadata": {
  "language_info": {
   "name": "python"
  },
  "orig_nbformat": 4
 },
 "nbformat": 4,
 "nbformat_minor": 2
}
