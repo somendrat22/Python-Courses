{
 "cells": [
  {
   "cell_type": "markdown",
   "metadata": {},
   "source": [
    "# For Loops \n",
    "\n",
    "A for loop in python act as iterator in python. It goes through the items that qre maintaing sequence or order for example strings, list, tuples, dictionary keys and values. "
   ]
  },
  {
   "cell_type": "markdown",
   "metadata": {},
   "source": [
    "### Example 1 "
   ]
  },
  {
   "cell_type": "code",
   "execution_count": 1,
   "metadata": {},
   "outputs": [],
   "source": [
    "li = [1, 2, 3, 4, 5, 8, 10, 20, 19, 17, 16]"
   ]
  },
  {
   "cell_type": "code",
   "execution_count": 2,
   "metadata": {},
   "outputs": [
    {
     "name": "stdout",
     "output_type": "stream",
     "text": [
      "1\n",
      "2\n",
      "3\n",
      "4\n",
      "5\n",
      "8\n",
      "10\n",
      "20\n",
      "19\n",
      "17\n",
      "16\n"
     ]
    }
   ],
   "source": [
    "for num in li:\n",
    "    newvar = num\n",
    "    print(num)"
   ]
  },
  {
   "cell_type": "code",
   "execution_count": 3,
   "metadata": {},
   "outputs": [
    {
     "name": "stdout",
     "output_type": "stream",
     "text": [
      "1 is odd number\n",
      "2 is Even number\n",
      "3 is odd number\n",
      "4 is Even number\n",
      "5 is odd number\n",
      "8 is Even number\n",
      "10 is Even number\n",
      "20 is Even number\n",
      "19 is odd number\n",
      "17 is odd number\n",
      "16 is Even number\n"
     ]
    }
   ],
   "source": [
    "for num in li:\n",
    "    if num%2 == 0:\n",
    "        print(\"{} is Even number\".format(num))\n",
    "    else:\n",
    "        print(\"{} is odd number\".format(num))"
   ]
  },
  {
   "cell_type": "code",
   "execution_count": 9,
   "metadata": {},
   "outputs": [
    {
     "name": "stdout",
     "output_type": "stream",
     "text": [
      "105\n"
     ]
    }
   ],
   "source": [
    "personName = \"Solo\"\n",
    "\n",
    "if personName == \"Solo\":\n",
    "    sum = 0\n",
    "    for num in li:\n",
    "        sum = sum + num\n",
    "    print(sum)\n",
    "elif personName == \"Somendra\":\n",
    "    prod = 1\n",
    "    for num in li:\n",
    "        prod = prod*num\n",
    "    print(prod)\n",
    "else:\n",
    "    print(\"No Match\")"
   ]
  },
  {
   "cell_type": "code",
   "execution_count": 4,
   "metadata": {},
   "outputs": [
    {
     "data": {
      "text/plain": [
       "16"
      ]
     },
     "execution_count": 4,
     "metadata": {},
     "output_type": "execute_result"
    }
   ],
   "source": [
    "num "
   ]
  },
  {
   "cell_type": "code",
   "execution_count": 5,
   "metadata": {},
   "outputs": [
    {
     "ename": "NameError",
     "evalue": "name 'newvar' is not defined",
     "output_type": "error",
     "traceback": [
      "\u001b[1;31m---------------------------------------------------------------------------\u001b[0m",
      "\u001b[1;31mNameError\u001b[0m                                 Traceback (most recent call last)",
      "Cell \u001b[1;32mIn [5], line 1\u001b[0m\n\u001b[1;32m----> 1\u001b[0m newvar\n",
      "\u001b[1;31mNameError\u001b[0m: name 'newvar' is not defined"
     ]
    }
   ],
   "source": [
    "newvar"
   ]
  },
  {
   "cell_type": "code",
   "execution_count": 1,
   "metadata": {},
   "outputs": [
    {
     "name": "stdout",
     "output_type": "stream",
     "text": [
      "T\n",
      "h\n",
      "i\n",
      "s\n",
      " \n",
      "i\n",
      "s\n",
      " \n",
      "a\n",
      " \n",
      "s\n",
      "t\n",
      "r\n",
      "i\n",
      "n\n",
      "g\n"
     ]
    }
   ],
   "source": [
    "s = \"This is a string\" \n",
    "\n",
    "for str in s:\n",
    "    print(str)"
   ]
  },
  {
   "cell_type": "code",
   "execution_count": 2,
   "metadata": {},
   "outputs": [
    {
     "name": "stdout",
     "output_type": "stream",
     "text": [
      "(1, 2)\n",
      "(3, 4)\n",
      "(5, 6)\n"
     ]
    }
   ],
   "source": [
    "li = [(1,2), (3, 4), (5,6)]\n",
    "\n",
    "for t in li:\n",
    "    print(t)"
   ]
  },
  {
   "cell_type": "code",
   "execution_count": 3,
   "metadata": {},
   "outputs": [
    {
     "name": "stdout",
     "output_type": "stream",
     "text": [
      "value 1 of tup is 1, value 2 of tup is 2\n",
      "value 1 of tup is 3, value 2 of tup is 4\n",
      "value 1 of tup is 5, value 2 of tup is 6\n"
     ]
    }
   ],
   "source": [
    "for (v1, v2) in li:\n",
    "    print(\"value 1 of tup is {}, value 2 of tup is {}\".format(v1, v2))"
   ]
  },
  {
   "cell_type": "code",
   "execution_count": 6,
   "metadata": {},
   "outputs": [
    {
     "name": "stdout",
     "output_type": "stream",
     "text": [
      "\t\t*\t\n",
      "\t*\t*\t*\t\n",
      "*\t*\t*\t*\t*\t\n",
      "\t*\t*\t*\t\n",
      "\t\t*\t\n"
     ]
    }
   ],
   "source": [
    "n = 5 \n",
    "\n",
    "spaceCount = n // 2\n",
    "starCount = 1\n",
    "\n",
    "for row in range(1, n + 1):\n",
    "\n",
    "    for spaces in range(1, spaceCount + 1):\n",
    "        print(\"\\t\", end=\"\")\n",
    "    \n",
    "    for stars in range(1, starCount + 1):\n",
    "        print(\"*\\t\", end=\"\")\n",
    "\n",
    "    \n",
    "    if(row <= n//2):\n",
    "        starCount += 2\n",
    "        spaceCount -=1\n",
    "    else:\n",
    "        starCount -= 2\n",
    "        spaceCount += 1\n",
    "    \n",
    "    print(end= \"\\n\")\n"
   ]
  },
  {
   "cell_type": "code",
   "execution_count": 7,
   "metadata": {},
   "outputs": [
    {
     "data": {
      "text/plain": [
       "dict_items([('k1', 1), ('k2', 2), ('k3', 3)])"
      ]
     },
     "execution_count": 7,
     "metadata": {},
     "output_type": "execute_result"
    }
   ],
   "source": [
    "d = {\"k1\" : 1, \"k2\" : 2, \"k3\" : 3}\n",
    "\n",
    "d.items()"
   ]
  },
  {
   "cell_type": "code",
   "execution_count": 8,
   "metadata": {},
   "outputs": [
    {
     "name": "stdout",
     "output_type": "stream",
     "text": [
      "key : k1, value : 1\n",
      "key : k2, value : 2\n",
      "key : k3, value : 3\n"
     ]
    }
   ],
   "source": [
    "for (key, value) in d.items():\n",
    "    print(\"key : {}, value : {}\".format(key, value))"
   ]
  }
 ],
 "metadata": {
  "kernelspec": {
   "display_name": "Python 3.10.6 64-bit",
   "language": "python",
   "name": "python3"
  },
  "language_info": {
   "codemirror_mode": {
    "name": "ipython",
    "version": 3
   },
   "file_extension": ".py",
   "mimetype": "text/x-python",
   "name": "python",
   "nbconvert_exporter": "python",
   "pygments_lexer": "ipython3",
   "version": "3.10.6"
  },
  "orig_nbformat": 4,
  "vscode": {
   "interpreter": {
    "hash": "76d7c06053c3456e5600312cec90888656fc0ed30c03d8425b9dac6e4fc8e014"
   }
  }
 },
 "nbformat": 4,
 "nbformat_minor": 2
}
