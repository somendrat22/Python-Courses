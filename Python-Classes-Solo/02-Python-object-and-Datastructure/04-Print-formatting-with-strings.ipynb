{
 "cells": [
  {
   "cell_type": "markdown",
   "metadata": {},
   "source": [
    "# String Formatting \n",
    "\n",
    "String formatting lets you inject items into the string rather than trying to chain items together using commas or string concatenation. \n",
    "\n",
    "player = \"Sam\"\n",
    "points = 33\n",
    "\n",
    "\"In Last game,\" + player + \" scored \" + str(points). # In concatenation we are chaining the string.\n",
    "\n",
    "f'In Last game, {player} scored {points}.' # In string formatting we are inserting the variables."
   ]
  },
  {
   "cell_type": "code",
   "execution_count": 1,
   "metadata": {},
   "outputs": [
    {
     "data": {
      "text/plain": [
       "'Insert new string into me : New string inserted'"
      ]
     },
     "execution_count": 1,
     "metadata": {},
     "output_type": "execute_result"
    }
   ],
   "source": [
    "\"Insert new string into me : {}\".format(\"New string inserted\")"
   ]
  },
  {
   "cell_type": "code",
   "execution_count": 2,
   "metadata": {},
   "outputs": [],
   "source": [
    "# Earlier when we want to do string formatting we use % symbol \n",
    "# In improvised way we use .format\n",
    "# The newest method uses f-strings."
   ]
  },
  {
   "cell_type": "markdown",
   "metadata": {},
   "source": [
    "# Formatting with the place holder \n"
   ]
  },
  {
   "cell_type": "code",
   "execution_count": 5,
   "metadata": {},
   "outputs": [
    {
     "name": "stdout",
     "output_type": "stream",
     "text": [
      "We are seeing one example of percentage symbol.\n"
     ]
    }
   ],
   "source": [
    "# we use % symbol. If we want to inject something in our string. \n",
    "\n",
    "print(\"We are seeing one example of %s symbol.\" %'percentage')"
   ]
  },
  {
   "cell_type": "code",
   "execution_count": 8,
   "metadata": {},
   "outputs": [
    {
     "name": "stdout",
     "output_type": "stream",
     "text": [
      "I'm going to inject some text here. and more text here\n"
     ]
    }
   ],
   "source": [
    "print(\"I'm going to inject %s text here. and %s text here\"%(\"some\", \"more\"))"
   ]
  },
  {
   "cell_type": "markdown",
   "metadata": {},
   "source": [
    "Escape Characters \n",
    "\n",
    "Whenever we use \\ \"backslash\". It is a escape character.\n",
    "\n",
    "\\t -> It will create you a tab\n",
    "\\n -> It will work as enter \n",
    "\n",
    "%s -> I require a string value \n",
    "%r -> It will say i will give you raw value of string "
   ]
  },
  {
   "cell_type": "code",
   "execution_count": 10,
   "metadata": {},
   "outputs": [
    {
     "name": "stdout",
     "output_type": "stream",
     "text": [
      "Hi I am somendra\n",
      "Hi I am 'solo'\n"
     ]
    }
   ],
   "source": [
    "print(\"Hi I am %s\" %\"somendra\")\n",
    "print(\"Hi I am %r\" %\"solo\") # So %r will give you the actual representation og the string "
   ]
  },
  {
   "cell_type": "code",
   "execution_count": 12,
   "metadata": {},
   "outputs": [
    {
     "name": "stdout",
     "output_type": "stream",
     "text": [
      "Hii, I caught\t a big fish\n",
      "Hii, I caught'\\t a big fish'\n"
     ]
    }
   ],
   "source": [
    "print(\"Hii, I caught%s\" %\"\\t a big fish\")\n",
    "print(\"Hii, I caught%r\" %\"\\t a big fish\") # We will get the raw value of the string "
   ]
  }
 ],
 "metadata": {
  "kernelspec": {
   "display_name": "Python 3.10.6 64-bit",
   "language": "python",
   "name": "python3"
  },
  "language_info": {
   "codemirror_mode": {
    "name": "ipython",
    "version": 3
   },
   "file_extension": ".py",
   "mimetype": "text/x-python",
   "name": "python",
   "nbconvert_exporter": "python",
   "pygments_lexer": "ipython3",
   "version": "3.10.6"
  },
  "orig_nbformat": 4,
  "vscode": {
   "interpreter": {
    "hash": "76d7c06053c3456e5600312cec90888656fc0ed30c03d8425b9dac6e4fc8e014"
   }
  }
 },
 "nbformat": 4,
 "nbformat_minor": 2
}
