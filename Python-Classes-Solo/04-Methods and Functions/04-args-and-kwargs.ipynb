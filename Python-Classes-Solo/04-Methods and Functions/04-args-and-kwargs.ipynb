{
 "cells": [
  {
   "cell_type": "code",
   "execution_count": 1,
   "metadata": {},
   "outputs": [
    {
     "name": "stdout",
     "output_type": "stream",
     "text": [
      "130\n"
     ]
    }
   ],
   "source": [
    "def myFunc(a, b):\n",
    "    return a + b\n",
    "\n",
    "myFunc(40, 60)\n",
    "\n",
    "\n",
    "def newFun(a = 0, b = 0, c =0 , d =0):\n",
    "    return a +  b + c +  d\n",
    "\n",
    "print(newFun(40, 60, 30))"
   ]
  },
  {
   "cell_type": "markdown",
   "metadata": {},
   "source": [
    "# args \n",
    "\n",
    "When a function parameters start with an asterik, it allows for an arbitary number of arguments and the function takes them in a tuple of values "
   ]
  },
  {
   "cell_type": "code",
   "execution_count": 2,
   "metadata": {},
   "outputs": [],
   "source": [
    "def myFunc(*args):\n",
    "    print(args)"
   ]
  },
  {
   "cell_type": "code",
   "execution_count": 4,
   "metadata": {},
   "outputs": [
    {
     "name": "stdout",
     "output_type": "stream",
     "text": [
      "(10, 20, 30, 40, 50, 60, 70, 80, 'Solo')\n"
     ]
    }
   ],
   "source": [
    "myFunc(10, 20, 30, 40 , 50 , 60, 70 , 80, \"Solo\")"
   ]
  },
  {
   "cell_type": "code",
   "execution_count": 5,
   "metadata": {},
   "outputs": [
    {
     "ename": "TypeError",
     "evalue": "newFun() takes from 0 to 4 positional arguments but 5 were given",
     "output_type": "error",
     "traceback": [
      "\u001b[1;31m---------------------------------------------------------------------------\u001b[0m",
      "\u001b[1;31mTypeError\u001b[0m                                 Traceback (most recent call last)",
      "Cell \u001b[1;32mIn [5], line 1\u001b[0m\n\u001b[1;32m----> 1\u001b[0m newFun(\u001b[39m10\u001b[39m, \u001b[39m20\u001b[39m, \u001b[39m30\u001b[39m, \u001b[39m40\u001b[39m, \u001b[39m50\u001b[39m )\n",
      "\u001b[1;31mTypeError\u001b[0m: newFun() takes from 0 to 4 positional arguments but 5 were given"
     ]
    }
   ],
   "source": [
    "newFun(10, 20, 30, 40, 50 )"
   ]
  },
  {
   "cell_type": "code",
   "execution_count": 7,
   "metadata": {},
   "outputs": [
    {
     "data": {
      "text/plain": [
       "260"
      ]
     },
     "execution_count": 7,
     "metadata": {},
     "output_type": "execute_result"
    }
   ],
   "source": [
    "def calculateTime(*posts):\n",
    "    time = 0\n",
    "    for post in posts:\n",
    "        time += post\n",
    "    return time\n",
    "\n",
    "\n",
    "calculateTime(10, 20, 40, 90, 100)"
   ]
  },
  {
   "cell_type": "markdown",
   "metadata": {},
   "source": [
    "# **Kwargs\n",
    "\n",
    "Similarly Python offers a way to handle arbitary numbers of keywords arguments. Instead of creating a tuple of values. **kwargs builds a dictionary of key, value pairs."
   ]
  },
  {
   "cell_type": "code",
   "execution_count": 8,
   "metadata": {},
   "outputs": [
    {
     "name": "stdout",
     "output_type": "stream",
     "text": [
      "{'India': 'Delhi', 'USA': 'Washington DC', 'Uk': 'London'}\n"
     ]
    }
   ],
   "source": [
    "def myFun(**kwargs):\n",
    "    print(kwargs)\n",
    "\n",
    "\n",
    "myFun(India = \"Delhi\", USA = \"Washington DC\", Uk = \"London\")"
   ]
  },
  {
   "cell_type": "code",
   "execution_count": 9,
   "metadata": {},
   "outputs": [],
   "source": [
    "def myFun(**fruits):\n",
    "    if \"Mango\" in fruits:\n",
    "        print(\"I have {} Mangoes\".format(fruits[\"Mango\"]))\n",
    "    else:\n",
    "        print(\"I don't have Mango\")"
   ]
  },
  {
   "cell_type": "code",
   "execution_count": 10,
   "metadata": {},
   "outputs": [
    {
     "name": "stdout",
     "output_type": "stream",
     "text": [
      "I have 4 Mangoes\n"
     ]
    }
   ],
   "source": [
    "myFun(Mango = 4, Apple = 5)"
   ]
  },
  {
   "cell_type": "markdown",
   "metadata": {},
   "source": [
    "# args and kwargs combined\n",
    "\n",
    "We can use args and kwargs combined but we have to first pass args and after that we have to pass kwargs"
   ]
  },
  {
   "cell_type": "code",
   "execution_count": 11,
   "metadata": {},
   "outputs": [],
   "source": [
    "def myFun(*args, **kwargs):\n",
    "    print(args)\n",
    "    print(kwargs) "
   ]
  },
  {
   "cell_type": "code",
   "execution_count": 12,
   "metadata": {},
   "outputs": [
    {
     "name": "stdout",
     "output_type": "stream",
     "text": [
      "('Som', 'Solo')\n",
      "{'Mango': 4, 'Apple': 5}\n"
     ]
    }
   ],
   "source": [
    "myFun(\"Som\", \"Solo\", Mango = 4, Apple = 5)"
   ]
  },
  {
   "cell_type": "code",
   "execution_count": 13,
   "metadata": {},
   "outputs": [
    {
     "ename": "SyntaxError",
     "evalue": "positional argument follows keyword argument (2783555735.py, line 1)",
     "output_type": "error",
     "traceback": [
      "\u001b[1;36m  Cell \u001b[1;32mIn [13], line 1\u001b[1;36m\u001b[0m\n\u001b[1;33m    myFun(Mango = 4, Apple = 5, \"Som\", \"Solo\")\u001b[0m\n\u001b[1;37m                                             ^\u001b[0m\n\u001b[1;31mSyntaxError\u001b[0m\u001b[1;31m:\u001b[0m positional argument follows keyword argument\n"
     ]
    }
   ],
   "source": [
    "myFun(Mango = 4, Apple = 5, \"Som\", \"Solo\")"
   ]
  }
 ],
 "metadata": {
  "kernelspec": {
   "display_name": "Python 3.10.6 64-bit",
   "language": "python",
   "name": "python3"
  },
  "language_info": {
   "codemirror_mode": {
    "name": "ipython",
    "version": 3
   },
   "file_extension": ".py",
   "mimetype": "text/x-python",
   "name": "python",
   "nbconvert_exporter": "python",
   "pygments_lexer": "ipython3",
   "version": "3.10.6"
  },
  "orig_nbformat": 4,
  "vscode": {
   "interpreter": {
    "hash": "76d7c06053c3456e5600312cec90888656fc0ed30c03d8425b9dac6e4fc8e014"
   }
  }
 },
 "nbformat": 4,
 "nbformat_minor": 2
}
